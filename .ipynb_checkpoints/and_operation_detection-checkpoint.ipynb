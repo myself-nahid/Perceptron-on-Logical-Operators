{
 "cells": [
  {
   "cell_type": "code",
   "execution_count": 6,
   "id": "287e16bc",
   "metadata": {},
   "outputs": [
    {
     "name": "stdout",
     "output_type": "stream",
     "text": [
      "Test Accuracy: 100.00%\n",
      "Input: [0 0], Predicted AND: 0\n",
      "Input: [0 1], Predicted AND: 0\n",
      "Input: [1 0], Predicted AND: 0\n",
      "Input: [1 1], Predicted AND: 1\n"
     ]
    }
   ],
   "source": [
    "import numpy as np\n",
    "from sklearn.linear_model import Perceptron\n",
    "from sklearn.metrics import accuracy_score\n",
    "\n",
    "X = np.array([[0, 0], [0, 1], [1, 0], [1, 1]])  \n",
    "y = np.array([0, 0, 0, 1]) \n",
    "\n",
    "# Define the perceptron model\n",
    "model = Perceptron(max_iter=1000, tol=1e-3, random_state=1)\n",
    "\n",
    "# Train the model\n",
    "model.fit(X, y)\n",
    "\n",
    "# Predict and evaluate the model\n",
    "y_pred = model.predict(X)\n",
    "accuracy = accuracy_score(y, y_pred)\n",
    "print(f'Test Accuracy: {accuracy*100:.2f}%')\n",
    "\n",
    "# Output predictions\n",
    "for input_data, prediction in zip(X, y_pred):\n",
    "    print(f'Input: {input_data}, Predicted AND: {prediction}')\n"
   ]
  }
 ],
 "metadata": {
  "kernelspec": {
   "display_name": "Python 3 (ipykernel)",
   "language": "python",
   "name": "python3"
  },
  "language_info": {
   "codemirror_mode": {
    "name": "ipython",
    "version": 3
   },
   "file_extension": ".py",
   "mimetype": "text/x-python",
   "name": "python",
   "nbconvert_exporter": "python",
   "pygments_lexer": "ipython3",
   "version": "3.11.5"
  }
 },
 "nbformat": 4,
 "nbformat_minor": 5
}
